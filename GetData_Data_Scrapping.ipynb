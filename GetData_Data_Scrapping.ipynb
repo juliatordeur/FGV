{
  "nbformat": 4,
  "nbformat_minor": 0,
  "metadata": {
    "colab": {
      "name": "GetData - Data Scrapping.ipynb",
      "provenance": [],
      "collapsed_sections": []
    },
    "kernelspec": {
      "name": "python3",
      "display_name": "Python 3"
    },
    "language_info": {
      "name": "python"
    }
  },
  "cells": [
    {
      "cell_type": "markdown",
      "source": [
        "# Getting data into Python"
      ],
      "metadata": {
        "id": "vDPPxz0-hFad"
      }
    },
    {
      "cell_type": "markdown",
      "source": [
        "The data in this example will come from this location:\n",
        "\n",
        "* [https://en.wikipedia.org/wiki/List_of_wars_by_death_toll](https://en.wikipedia.org/wiki/List_of_wars_by_death_toll)"
      ],
      "metadata": {
        "id": "Gp9Qyu8lhAC9"
      }
    },
    {
      "cell_type": "code",
      "source": [
        "# here we save the complete link (in quotations):\n",
        "link='https://en.wikipedia.org/wiki/List_of_wars_by_death_toll'"
      ],
      "metadata": {
        "id": "otvmQuXthm9N"
      },
      "execution_count": null,
      "outputs": []
    },
    {
      "cell_type": "markdown",
      "source": [
        "The operation to get dat from the web requires more than the basic Python functions. Then, you need to install some extra packages:\n",
        "* pandas\n",
        "* html5lib\n",
        "* beautifulsoup4\n",
        "* lxml\n",
        "* requests. "
      ],
      "metadata": {
        "id": "ncdqePWThxwF"
      }
    },
    {
      "cell_type": "code",
      "source": [
        "# this code can help you know if you already have the packages listed above:\n",
        "\n",
        "!pip show pandas html5lib beautifulsoup4 lxml requests "
      ],
      "metadata": {
        "id": "bm1Ly4Tfj9lL",
        "colab": {
          "base_uri": "https://localhost:8080/"
        },
        "outputId": "05a377ee-715b-42de-ae0e-f95cda6139ef"
      },
      "execution_count": null,
      "outputs": [
        {
          "output_type": "stream",
          "name": "stdout",
          "text": [
            "Name: pandas\n",
            "Version: 1.3.5\n",
            "Summary: Powerful data structures for data analysis, time series, and statistics\n",
            "Home-page: https://pandas.pydata.org\n",
            "Author: The Pandas Development Team\n",
            "Author-email: pandas-dev@python.org\n",
            "License: BSD-3-Clause\n",
            "Location: /usr/local/lib/python3.7/dist-packages\n",
            "Requires: python-dateutil, numpy, pytz\n",
            "Required-by: xarray, vega-datasets, statsmodels, sklearn-pandas, seaborn, pymc3, prophet, plotnine, pandas-profiling, pandas-gbq, pandas-datareader, mlxtend, mizani, holoviews, gspread-dataframe, google-colab, fix-yahoo-finance, fastai, datascience, cufflinks, cmdstanpy, arviz, altair\n",
            "---\n",
            "Name: html5lib\n",
            "Version: 1.0.1\n",
            "Summary: HTML parser based on the WHATWG HTML specification\n",
            "Home-page: https://github.com/html5lib/html5lib-python\n",
            "Author: James Graham\n",
            "Author-email: james@hoppipolla.co.uk\n",
            "License: MIT License\n",
            "Location: /usr/local/lib/python3.7/dist-packages\n",
            "Requires: six, webencodings\n",
            "Required-by: \n",
            "---\n",
            "Name: beautifulsoup4\n",
            "Version: 4.6.3\n",
            "Summary: Screen-scraping library\n",
            "Home-page: http://www.crummy.com/software/BeautifulSoup/bs4/\n",
            "Author: Leonard Richardson\n",
            "Author-email: leonardr@segfault.org\n",
            "License: MIT\n",
            "Location: /usr/local/lib/python3.7/dist-packages\n",
            "Requires: \n",
            "Required-by: google, gdown, bs4\n",
            "---\n",
            "Name: lxml\n",
            "Version: 4.9.1\n",
            "Summary: Powerful and Pythonic XML processing library combining libxml2/libxslt with the ElementTree API.\n",
            "Home-page: https://lxml.de/\n",
            "Author: lxml dev team\n",
            "Author-email: lxml-dev@lxml.de\n",
            "License: BSD\n",
            "Location: /usr/local/lib/python3.7/dist-packages\n",
            "Requires: \n",
            "Required-by: pandas-datareader\n",
            "---\n",
            "Name: requests\n",
            "Version: 2.23.0\n",
            "Summary: Python HTTP for Humans.\n",
            "Home-page: https://requests.readthedocs.io\n",
            "Author: Kenneth Reitz\n",
            "Author-email: me@kennethreitz.org\n",
            "License: Apache 2.0\n",
            "Location: /usr/local/lib/python3.7/dist-packages\n",
            "Requires: idna, certifi, chardet, urllib3\n",
            "Required-by: tweepy, torchvision, torchtext, tensorflow-datasets, tensorboard, Sphinx, spacy, requests-oauthlib, pymystem3, pooch, panel, pandas-datareader, kaggle, gspread, google-colab, google-api-core, gdown, folium, fix-yahoo-finance, fastai, community, CacheControl\n"
          ]
        }
      ]
    },
    {
      "cell_type": "code",
      "source": [
        "!python --version"
      ],
      "metadata": {
        "colab": {
          "base_uri": "https://localhost:8080/"
        },
        "id": "RI3VZnrpDlJ3",
        "outputId": "ba46ef20-5aef-41ea-80f4-fe541e11b372"
      },
      "execution_count": null,
      "outputs": [
        {
          "output_type": "stream",
          "name": "stdout",
          "text": [
            "Python 3.7.13\n"
          ]
        }
      ]
    },
    {
      "cell_type": "markdown",
      "source": [
        "Any package not available can be installed using **pip install _package-name_** . Let's bring the table easily with pandas' *read_html*:"
      ],
      "metadata": {
        "id": "LbBO6_yBmT1U"
      }
    },
    {
      "cell_type": "code",
      "source": [
        "import pandas as pd\n",
        "# this code only works for tables on the link\n",
        "\n",
        "wars=pd.read_html(io=link, # reading the info from link\n",
        "                  flavor='bs4', # the parsing engine\n",
        "                  attrs = {'class': 'sortable wikitable'})# how did I know this? -> clicar com o botão direito em cima da tabela que quero usar, inspecionar\n",
        "                  # e setinha, passar em cima da tabela que quero usar para saber o nome"
      ],
      "metadata": {
        "id": "D1KA_ElJlykr"
      },
      "execution_count": null,
      "outputs": []
    },
    {
      "cell_type": "markdown",
      "source": [
        "The object **wars** is not a table, but a list (of sortable wiki tables):"
      ],
      "metadata": {
        "id": "QZgL_g_NnzXy"
      }
    },
    {
      "cell_type": "code",
      "source": [
        "# type of object\n",
        "type(wars)"
      ],
      "metadata": {
        "colab": {
          "base_uri": "https://localhost:8080/"
        },
        "id": "w8C0hLOpnwkR",
        "outputId": "0e8526f1-846f-4b42-8b9c-a88079780c9d"
      },
      "execution_count": null,
      "outputs": [
        {
          "output_type": "execute_result",
          "data": {
            "text/plain": [
              "list"
            ]
          },
          "metadata": {},
          "execution_count": 5
        }
      ]
    },
    {
      "cell_type": "markdown",
      "source": [
        "...and we have this many:"
      ],
      "metadata": {
        "id": "j2bsR5gfoBcu"
      }
    },
    {
      "cell_type": "code",
      "source": [
        "len(wars)"
      ],
      "metadata": {
        "colab": {
          "base_uri": "https://localhost:8080/"
        },
        "id": "PbiDbqr2n-eG",
        "outputId": "e4d3ee23-6698-42c8-ce05-f77f10477651"
      },
      "execution_count": null,
      "outputs": [
        {
          "output_type": "execute_result",
          "data": {
            "text/plain": [
              "3"
            ]
          },
          "metadata": {},
          "execution_count": 6
        }
      ]
    },
    {
      "cell_type": "markdown",
      "source": [
        "You can access each element of the list using an index inside '[ ]'. This is what you have in the first element:"
      ],
      "metadata": {
        "id": "QcopPZ0HW8Oi"
      }
    },
    {
      "cell_type": "code",
      "source": [
        "type(wars[0]) #the first starts in zero in Python."
      ],
      "metadata": {
        "colab": {
          "base_uri": "https://localhost:8080/"
        },
        "id": "33r3HIGlXMGn",
        "outputId": "dbb500ee-2d50-413f-9cf6-7dd829dcc99a"
      },
      "execution_count": null,
      "outputs": [
        {
          "output_type": "execute_result",
          "data": {
            "text/plain": [
              "pandas.core.frame.DataFrame"
            ]
          },
          "metadata": {},
          "execution_count": 7
        }
      ]
    },
    {
      "cell_type": "markdown",
      "source": [
        "The first element of _wars_ is a pandas dataframe. Let's check some info:"
      ],
      "metadata": {
        "id": "Mh_yDazUXdbt"
      }
    },
    {
      "cell_type": "code",
      "source": [
        "wars[0].shape # amount of rows and columns"
      ],
      "metadata": {
        "colab": {
          "base_uri": "https://localhost:8080/"
        },
        "id": "dXcslXd_YcGj",
        "outputId": "c3f55173-67df-40d4-ed81-4ca4a93cd388"
      },
      "execution_count": null,
      "outputs": [
        {
          "output_type": "execute_result",
          "data": {
            "text/plain": [
              "(24, 6)"
            ]
          },
          "metadata": {},
          "execution_count": 8
        }
      ]
    },
    {
      "cell_type": "code",
      "source": [
        "wars[0].columns # column names"
      ],
      "metadata": {
        "colab": {
          "base_uri": "https://localhost:8080/"
        },
        "id": "7jBJupvxYkGF",
        "outputId": "fa88e07c-354d-4d81-f629-258cd9059fa1"
      },
      "execution_count": null,
      "outputs": [
        {
          "output_type": "execute_result",
          "data": {
            "text/plain": [
              "Index(['War', 'Deathrange', 'Date', 'Combatants', 'Location', 'Notes'], dtype='object')"
            ]
          },
          "metadata": {},
          "execution_count": 9
        }
      ]
    },
    {
      "cell_type": "code",
      "source": [
        "wars[0].info() # column data types"
      ],
      "metadata": {
        "colab": {
          "base_uri": "https://localhost:8080/"
        },
        "id": "ItgvCRPvYn9r",
        "outputId": "ddbd2229-7b98-4bf4-e286-efdb59a96ad0"
      },
      "execution_count": null,
      "outputs": [
        {
          "output_type": "stream",
          "name": "stdout",
          "text": [
            "<class 'pandas.core.frame.DataFrame'>\n",
            "RangeIndex: 24 entries, 0 to 23\n",
            "Data columns (total 6 columns):\n",
            " #   Column      Non-Null Count  Dtype \n",
            "---  ------      --------------  ----- \n",
            " 0   War         24 non-null     object\n",
            " 1   Deathrange  24 non-null     object\n",
            " 2   Date        24 non-null     object\n",
            " 3   Combatants  24 non-null     object\n",
            " 4   Location    24 non-null     object\n",
            " 5   Notes       20 non-null     object\n",
            "dtypes: object(6)\n",
            "memory usage: 1.2+ KB\n"
          ]
        }
      ]
    },
    {
      "cell_type": "code",
      "source": [
        "wars[0].head() # or tail()"
      ],
      "metadata": {
        "colab": {
          "base_uri": "https://localhost:8080/",
          "height": 337
        },
        "id": "zWZhUhFnYtf9",
        "outputId": "c265a485-2f74-4abc-d42b-1497b805ce35"
      },
      "execution_count": null,
      "outputs": [
        {
          "output_type": "execute_result",
          "data": {
            "text/plain": [
              "                            War           Deathrange           Date  \\\n",
              "0  Conquests of Cyrus the Great             100,000+  549 BC–530 BC   \n",
              "1            Greco–Persian Wars             300,000+  499 BC–449 BC   \n",
              "2                  Samnite Wars              33,500+  343 BC–290 BC   \n",
              "3   Wars of Alexander the Great             142,000+  336 BC–323 BC   \n",
              "4                    Punic Wars  1,250,000–1,850,000  264 BC–146 BC   \n",
              "\n",
              "                                          Combatants  \\\n",
              "0                  Persian Empire vs. various states   \n",
              "1               Greek City-States vs. Persian Empire   \n",
              "2                        Roman Republic vs. Samnites   \n",
              "3  Macedonian Empire and other Greek City-States ...   \n",
              "4             Roman Republic vs. Carthaginian Empire   \n",
              "\n",
              "                                            Location  \\\n",
              "0                                        Middle East   \n",
              "1                                             Greece   \n",
              "2                                              Italy   \n",
              "3  Middle East / North Africa / Central Asia / India   \n",
              "4                      Western Europe / North Africa   \n",
              "\n",
              "                                               Notes  \n",
              "0  Number given is the sum of all deaths in battl...  \n",
              "1                                                NaN  \n",
              "2  Number given is the sum of all deaths in battl...  \n",
              "3  Number given is the sum of all deaths in battl...  \n",
              "4                                                NaN  "
            ],
            "text/html": [
              "\n",
              "  <div id=\"df-fd838397-e42a-4eda-806e-edeb01dd7538\">\n",
              "    <div class=\"colab-df-container\">\n",
              "      <div>\n",
              "<style scoped>\n",
              "    .dataframe tbody tr th:only-of-type {\n",
              "        vertical-align: middle;\n",
              "    }\n",
              "\n",
              "    .dataframe tbody tr th {\n",
              "        vertical-align: top;\n",
              "    }\n",
              "\n",
              "    .dataframe thead th {\n",
              "        text-align: right;\n",
              "    }\n",
              "</style>\n",
              "<table border=\"1\" class=\"dataframe\">\n",
              "  <thead>\n",
              "    <tr style=\"text-align: right;\">\n",
              "      <th></th>\n",
              "      <th>War</th>\n",
              "      <th>Deathrange</th>\n",
              "      <th>Date</th>\n",
              "      <th>Combatants</th>\n",
              "      <th>Location</th>\n",
              "      <th>Notes</th>\n",
              "    </tr>\n",
              "  </thead>\n",
              "  <tbody>\n",
              "    <tr>\n",
              "      <th>0</th>\n",
              "      <td>Conquests of Cyrus the Great</td>\n",
              "      <td>100,000+</td>\n",
              "      <td>549 BC–530 BC</td>\n",
              "      <td>Persian Empire vs. various states</td>\n",
              "      <td>Middle East</td>\n",
              "      <td>Number given is the sum of all deaths in battl...</td>\n",
              "    </tr>\n",
              "    <tr>\n",
              "      <th>1</th>\n",
              "      <td>Greco–Persian Wars</td>\n",
              "      <td>300,000+</td>\n",
              "      <td>499 BC–449 BC</td>\n",
              "      <td>Greek City-States vs. Persian Empire</td>\n",
              "      <td>Greece</td>\n",
              "      <td>NaN</td>\n",
              "    </tr>\n",
              "    <tr>\n",
              "      <th>2</th>\n",
              "      <td>Samnite Wars</td>\n",
              "      <td>33,500+</td>\n",
              "      <td>343 BC–290 BC</td>\n",
              "      <td>Roman Republic vs. Samnites</td>\n",
              "      <td>Italy</td>\n",
              "      <td>Number given is the sum of all deaths in battl...</td>\n",
              "    </tr>\n",
              "    <tr>\n",
              "      <th>3</th>\n",
              "      <td>Wars of Alexander the Great</td>\n",
              "      <td>142,000+</td>\n",
              "      <td>336 BC–323 BC</td>\n",
              "      <td>Macedonian Empire and other Greek City-States ...</td>\n",
              "      <td>Middle East / North Africa / Central Asia / India</td>\n",
              "      <td>Number given is the sum of all deaths in battl...</td>\n",
              "    </tr>\n",
              "    <tr>\n",
              "      <th>4</th>\n",
              "      <td>Punic Wars</td>\n",
              "      <td>1,250,000–1,850,000</td>\n",
              "      <td>264 BC–146 BC</td>\n",
              "      <td>Roman Republic vs. Carthaginian Empire</td>\n",
              "      <td>Western Europe / North Africa</td>\n",
              "      <td>NaN</td>\n",
              "    </tr>\n",
              "  </tbody>\n",
              "</table>\n",
              "</div>\n",
              "      <button class=\"colab-df-convert\" onclick=\"convertToInteractive('df-fd838397-e42a-4eda-806e-edeb01dd7538')\"\n",
              "              title=\"Convert this dataframe to an interactive table.\"\n",
              "              style=\"display:none;\">\n",
              "        \n",
              "  <svg xmlns=\"http://www.w3.org/2000/svg\" height=\"24px\"viewBox=\"0 0 24 24\"\n",
              "       width=\"24px\">\n",
              "    <path d=\"M0 0h24v24H0V0z\" fill=\"none\"/>\n",
              "    <path d=\"M18.56 5.44l.94 2.06.94-2.06 2.06-.94-2.06-.94-.94-2.06-.94 2.06-2.06.94zm-11 1L8.5 8.5l.94-2.06 2.06-.94-2.06-.94L8.5 2.5l-.94 2.06-2.06.94zm10 10l.94 2.06.94-2.06 2.06-.94-2.06-.94-.94-2.06-.94 2.06-2.06.94z\"/><path d=\"M17.41 7.96l-1.37-1.37c-.4-.4-.92-.59-1.43-.59-.52 0-1.04.2-1.43.59L10.3 9.45l-7.72 7.72c-.78.78-.78 2.05 0 2.83L4 21.41c.39.39.9.59 1.41.59.51 0 1.02-.2 1.41-.59l7.78-7.78 2.81-2.81c.8-.78.8-2.07 0-2.86zM5.41 20L4 18.59l7.72-7.72 1.47 1.35L5.41 20z\"/>\n",
              "  </svg>\n",
              "      </button>\n",
              "      \n",
              "  <style>\n",
              "    .colab-df-container {\n",
              "      display:flex;\n",
              "      flex-wrap:wrap;\n",
              "      gap: 12px;\n",
              "    }\n",
              "\n",
              "    .colab-df-convert {\n",
              "      background-color: #E8F0FE;\n",
              "      border: none;\n",
              "      border-radius: 50%;\n",
              "      cursor: pointer;\n",
              "      display: none;\n",
              "      fill: #1967D2;\n",
              "      height: 32px;\n",
              "      padding: 0 0 0 0;\n",
              "      width: 32px;\n",
              "    }\n",
              "\n",
              "    .colab-df-convert:hover {\n",
              "      background-color: #E2EBFA;\n",
              "      box-shadow: 0px 1px 2px rgba(60, 64, 67, 0.3), 0px 1px 3px 1px rgba(60, 64, 67, 0.15);\n",
              "      fill: #174EA6;\n",
              "    }\n",
              "\n",
              "    [theme=dark] .colab-df-convert {\n",
              "      background-color: #3B4455;\n",
              "      fill: #D2E3FC;\n",
              "    }\n",
              "\n",
              "    [theme=dark] .colab-df-convert:hover {\n",
              "      background-color: #434B5C;\n",
              "      box-shadow: 0px 1px 3px 1px rgba(0, 0, 0, 0.15);\n",
              "      filter: drop-shadow(0px 1px 2px rgba(0, 0, 0, 0.3));\n",
              "      fill: #FFFFFF;\n",
              "    }\n",
              "  </style>\n",
              "\n",
              "      <script>\n",
              "        const buttonEl =\n",
              "          document.querySelector('#df-fd838397-e42a-4eda-806e-edeb01dd7538 button.colab-df-convert');\n",
              "        buttonEl.style.display =\n",
              "          google.colab.kernel.accessAllowed ? 'block' : 'none';\n",
              "\n",
              "        async function convertToInteractive(key) {\n",
              "          const element = document.querySelector('#df-fd838397-e42a-4eda-806e-edeb01dd7538');\n",
              "          const dataTable =\n",
              "            await google.colab.kernel.invokeFunction('convertToInteractive',\n",
              "                                                     [key], {});\n",
              "          if (!dataTable) return;\n",
              "\n",
              "          const docLinkHtml = 'Like what you see? Visit the ' +\n",
              "            '<a target=\"_blank\" href=https://colab.research.google.com/notebooks/data_table.ipynb>data table notebook</a>'\n",
              "            + ' to learn more about interactive tables.';\n",
              "          element.innerHTML = '';\n",
              "          dataTable['output_type'] = 'display_data';\n",
              "          await google.colab.output.renderOutput(dataTable, element);\n",
              "          const docLink = document.createElement('div');\n",
              "          docLink.innerHTML = docLinkHtml;\n",
              "          element.appendChild(docLink);\n",
              "        }\n",
              "      </script>\n",
              "    </div>\n",
              "  </div>\n",
              "  "
            ]
          },
          "metadata": {},
          "execution_count": 11
        }
      ]
    },
    {
      "cell_type": "markdown",
      "source": [
        "Request the following information:\n",
        "* The amount of rows in the other data frames in the object _wars_.\n",
        "* Confirm all those data frames share the same column names."
      ],
      "metadata": {
        "id": "j0I2PCpBoc6G"
      }
    },
    {
      "cell_type": "code",
      "source": [
        ""
      ],
      "metadata": {
        "id": "v34USTGw9od8"
      },
      "execution_count": null,
      "outputs": []
    },
    {
      "cell_type": "markdown",
      "source": [
        "The same web page from Wikipedia has more information on wars that is more difficult to scrap. I leave the example [HERE](https://colab.research.google.com/drive/1fMva9mhuUiLOlxQ6w7irzz2QVeKTzOXf?usp=sharing) in case you want to know more."
      ],
      "metadata": {
        "id": "WHhYHCPEo_CQ"
      }
    }
  ]
}